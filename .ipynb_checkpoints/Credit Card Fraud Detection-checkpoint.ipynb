{
 "cells": [
  {
   "cell_type": "code",
   "execution_count": 1,
   "metadata": {},
   "outputs": [],
   "source": [
    "import numpy as np\n",
    "import pandas as pd\n",
    "import matplotlib.pyplot as plt\n",
    "import seaborn as sns"
   ]
  },
  {
   "cell_type": "code",
   "execution_count": null,
   "metadata": {},
   "outputs": [],
   "source": [
    "data = pd.read_csv('creditcard_fraction.csv')\n",
    "data.drop(data.columns[[0]], axis=1, inplace=True)\n"
   ]
  },
  {
   "cell_type": "code",
   "execution_count": null,
   "metadata": {},
   "outputs": [],
   "source": [
    "print(data.columns)\n",
    "#V1-V28 are result of PCA dimesionality reduction used to protect sensitive info in the Databaase\n",
    "#0=> normal credit card transaction;1=> fraudulent "
   ]
  },
  {
   "cell_type": "code",
   "execution_count": null,
   "metadata": {},
   "outputs": [],
   "source": [
    "print(data.shape)"
   ]
  },
  {
   "cell_type": "code",
   "execution_count": null,
   "metadata": {
    "scrolled": false
   },
   "outputs": [],
   "source": [
    "print(data.describe())\n",
    "#mean close to 0=>way more valid transactions"
   ]
  },
  {
   "cell_type": "code",
   "execution_count": null,
   "metadata": {},
   "outputs": [],
   "source": [
    "#to save computation time , we select only fraction of data\n",
    "#data=data.sample(frac=0.1,random_state=1)\n",
    "\n",
    "print(data.shape)"
   ]
  },
  {
   "cell_type": "code",
   "execution_count": null,
   "metadata": {},
   "outputs": [],
   "source": [
    "data.hist(figsize=(20,20))\n",
    "plt.show()"
   ]
  },
  {
   "cell_type": "code",
   "execution_count": null,
   "metadata": {},
   "outputs": [],
   "source": [
    "# determine no. of fraud cases\n",
    "fraud=data[data['Class']==1]\n",
    "valid=data[data['Class']==0]\n",
    "\n",
    "outlier_fraction=len(fraud)/float(len(valid))\n",
    "print(outlier_fraction)\n",
    "\n",
    "print('fraud cases: {}'.format(len(fraud)))\n",
    "print('valid cases: {}'.format(len(valid)))"
   ]
  },
  {
   "cell_type": "code",
   "execution_count": null,
   "metadata": {
    "scrolled": true
   },
   "outputs": [],
   "source": [
    "corrmat=data.corr()\n",
    "fig=plt.figure(figsize=(12,9))\n",
    "\n",
    "sns.heatmap(corrmat,vmax=0.8, square=True)\n",
    "plt.show()"
   ]
  },
  {
   "cell_type": "code",
   "execution_count": null,
   "metadata": {},
   "outputs": [],
   "source": [
    "columns=data.columns.tolist()\n",
    "\n",
    "#unsupervised learning (anamoly detection); don't want to provide labels\n",
    "columns= [c for c in columns if c not in['Class']]\n",
    "\n",
    "target='Class'\n",
    "\n",
    "X=data[columns]\n",
    "Y=data[target]\n",
    "\n",
    "print(X.shape,Y.shape)"
   ]
  },
  {
   "cell_type": "code",
   "execution_count": null,
   "metadata": {},
   "outputs": [],
   "source": [
    "from sklearn.metrics import classification_report,accuracy_score\n",
    "from sklearn.ensemble import IsolationForest\n",
    "from sklearn.neighbors import LocalOutlierFactor\n",
    "\n",
    "state=1\n",
    "\n",
    "classifiers={\n",
    "    \"Isolation forest\": IsolationForest(max_samples=len(X),contamination=outlier_fraction,random_state=state),\n",
    "\"Local Outlier Factor\": LocalOutlierFactor(n_neighbors=20,contamination=outlier_fraction)\n",
    "}\n",
    "\n"
   ]
  },
  {
   "cell_type": "code",
   "execution_count": null,
   "metadata": {},
   "outputs": [],
   "source": [
    "n_outliers=len(fraud)\n",
    "\n",
    "for i,(clf_name,clf) in enumerate(classifiers.items()):\n",
    "    if clf_name==\"Local Outlier Factor\":\n",
    "        y_pred=clf.fit_predict(X)\n",
    "        scres_pred=clf.negative_outlier_factor_\n",
    "    else:\n",
    "        clf.fit(X)\n",
    "        scores_pred=clf.decision_function(X)\n",
    "        y_pred=clf.predict(X)\n",
    "    # -1=>outlier,1=>inlier from y_pred to 0=>valid,1=>fraud\n",
    "    y_pred[y_pred==1]=0\n",
    "    y_pred[y_pred==-1]=1\n",
    "    \n",
    "    n_errors=(y_pred!=Y).sum()\n",
    "    \n",
    "    #run classification metrics\n",
    "    print('{}: {}'.format(clf_name,n_errors))\n",
    "    print(accuracy_score(Y,y_pred))\n",
    "    print(classification_report(Y,y_pred))"
   ]
  }
 ],
 "metadata": {
  "kernelspec": {
   "display_name": "Python 3",
   "language": "python",
   "name": "python3"
  },
  "language_info": {
   "codemirror_mode": {
    "name": "ipython",
    "version": 3
   },
   "file_extension": ".py",
   "mimetype": "text/x-python",
   "name": "python",
   "nbconvert_exporter": "python",
   "pygments_lexer": "ipython3",
   "version": "3.6.7"
  }
 },
 "nbformat": 4,
 "nbformat_minor": 2
}
